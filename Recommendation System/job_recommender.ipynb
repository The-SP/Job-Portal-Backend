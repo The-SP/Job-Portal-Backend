{
 "cells": [
  {
   "cell_type": "code",
   "execution_count": 6,
   "metadata": {},
   "outputs": [],
   "source": [
    "#  Link for csv file\n",
    "#  https://www.kaggle.com/datasets/PromptCloudHQ/us-technology-jobs-on-dicecom"
   ]
  },
  {
   "cell_type": "code",
   "execution_count": 7,
   "metadata": {},
   "outputs": [],
   "source": [
    "import pandas as pd\n",
    "import numpy as np"
   ]
  },
  {
   "cell_type": "code",
   "execution_count": 8,
   "metadata": {},
   "outputs": [
    {
     "name": "stdout",
     "output_type": "stream",
     "text": [
      "Jobs shape: (19674, 5)\n",
      "<class 'pandas.core.frame.DataFrame'>\n",
      "RangeIndex: 19674 entries, 0 to 19673\n",
      "Data columns (total 5 columns):\n",
      " #   Column       Non-Null Count  Dtype \n",
      "---  ------       --------------  ----- \n",
      " 0   title        19674 non-null  object\n",
      " 1   description  19674 non-null  object\n",
      " 2   skills       19674 non-null  object\n",
      " 3   company      19626 non-null  object\n",
      " 4   location     19672 non-null  object\n",
      "dtypes: object(5)\n",
      "memory usage: 768.6+ KB\n"
     ]
    }
   ],
   "source": [
    "df_jobs = pd.read_csv(\"./jobs_data.csv\")\n",
    "print(\"Jobs shape:\", df_jobs.shape)\n",
    "df_jobs.info()"
   ]
  },
  {
   "cell_type": "code",
   "execution_count": 9,
   "metadata": {},
   "outputs": [
    {
     "name": "stdout",
     "output_type": "stream",
     "text": [
      "sr  backend devloper\n",
      "i have skills in developing and maintaining software applications using python  java  and javascript \n",
      "html css javascript sql\n"
     ]
    }
   ],
   "source": [
    "import re\n",
    "\n",
    "# Title should contain only characters, spaces and '+' (for C++)\n",
    "def clean_job_title(title):\n",
    "    return re.sub(r'[^a-zA-Z\\s\\+]', ' ', title).lower()\n",
    "\n",
    "def clean_job_description(text):\n",
    "    # Remove punctuation and numbers\n",
    "    text = re.sub('[^a-zA-Z]', ' ', text)\n",
    "    # Convert to lowercase\n",
    "    text = text.lower()\n",
    "    return text\n",
    "\n",
    "def clean_skill(skill):\n",
    "    return skill.replace(',', '').lower()\n",
    "\n",
    "print(clean_job_title(\"Sr. BAckend DevlopER\"))\n",
    "print(clean_job_description(\"I have skills in developing and maintaining software applications using Python, Java, and JavaScript.\"))\n",
    "print(clean_skill('HTML, CSS, JavaScript, SQL'))"
   ]
  },
  {
   "cell_type": "code",
   "execution_count": 10,
   "metadata": {},
   "outputs": [],
   "source": [
    "# Clean jobtitle, jobdescription and skills\n",
    "df_jobs[\"clean_title\"] = df_jobs['title'].apply(clean_job_title)\n",
    "df_jobs['clean_jobdescription'] = df_jobs['description'].apply(clean_job_description)\n",
    "df_jobs['clean_skills'] = df_jobs['skills'].apply(clean_skill)"
   ]
  },
  {
   "cell_type": "code",
   "execution_count": 11,
   "metadata": {},
   "outputs": [],
   "source": [
    "from sklearn.feature_extraction.text import TfidfVectorizer\n",
    "from sklearn.feature_extraction.text import CountVectorizer\n",
    "from sklearn.metrics.pairwise import cosine_similarity"
   ]
  },
  {
   "cell_type": "code",
   "execution_count": 12,
   "metadata": {},
   "outputs": [],
   "source": [
    "# Initialize the TfidfVectorizer\n",
    "title_vectorizer = CountVectorizer()\n",
    "description_vectorizer = TfidfVectorizer(stop_words='english')\n",
    "skills_vectorizer = CountVectorizer(ngram_range=(1, 3))\n",
    "\n",
    "\n",
    "# fit_transform the vectorizers and create tfidf matrix\n",
    "title_matrix = title_vectorizer.fit_transform(df_jobs['clean_title'])\n",
    "description_matrix = description_vectorizer.fit_transform(df_jobs['clean_jobdescription'])\n",
    "skills_matrix = skills_vectorizer.fit_transform(df_jobs['clean_skills'])"
   ]
  },
  {
   "cell_type": "code",
   "execution_count": 13,
   "metadata": {},
   "outputs": [],
   "source": [
    "\n",
    "def get_recommendations(title, description, skills):\n",
    "    # Clean title\n",
    "    title = clean_job_title(title)\n",
    "    # Clean description\n",
    "    if skills:\n",
    "        description = ' '.join(skills) + ' ' + description\n",
    "    if title:\n",
    "        description = f'{title} {description}'\n",
    "    description = clean_job_description(description)\n",
    "    # Clean skills\n",
    "    skills = clean_skill(skills)\n",
    "\n",
    "    # Compute vectorizer\n",
    "    query_title_vec = title_vectorizer.transform([title])\n",
    "    query_description_vec = description_vectorizer.transform([description])\n",
    "    query_skills_vec = skills_vectorizer.transform([skills])\n",
    "\n",
    "    # Compute cosine similarity\n",
    "    cosine_sim_title = cosine_similarity(query_title_vec, title_matrix)\n",
    "    cosine_sim_description = cosine_similarity(query_description_vec, description_matrix)\n",
    "    cosine_sim_skills = cosine_similarity(query_skills_vec, skills_matrix)\n",
    "\n",
    "\n",
    "    # Print the similarity scores for eact feature\n",
    "    print('sim_title:', cosine_sim_title[0][np.argsort(-cosine_sim_title[0])[:10]])\n",
    "    print('sim_description:', cosine_sim_description[0][np.argsort(-cosine_sim_description[0])[:10]])\n",
    "    print('sim_skills:', cosine_sim_skills[0][np.argsort(-cosine_sim_skills[0])[:10]])\n",
    "    # Print the top skills score and its corresponding skills\n",
    "    # top_n_skills = np.argsort(-cosine_sim_skills[0])[:10]\n",
    "    # results_skills = df_jobs.iloc[top_n_skills]\n",
    "    # results_skills = results_skills.copy()\n",
    "    # results_skills['score'] = cosine_sim_skills[0][top_n_skills]\n",
    "    # print(results_skills[['title', 'skills', 'score']])\n",
    "\n",
    "    # Combine the cosine similarity scores for job title, job description and skills\n",
    "    weight_title = 0.4\n",
    "    weight_description = 0.2\n",
    "    weight_skills = 0.4\n",
    "    cosine_sim_input = weight_title * cosine_sim_title + weight_description * cosine_sim_description + weight_skills * cosine_sim_skills\n",
    "\n",
    "    # Find the indices of the top N jobs with the highest cosine similarity scores\n",
    "    N = 25\n",
    "    top_n_indices = np.argsort(-cosine_sim_input[0])[:N]\n",
    "\n",
    "    # Get the similarity scores of the recommended jobs\n",
    "    similarity_scores = cosine_sim_input[0][top_n_indices]\n",
    "    print(\"Similarity Scores:\", similarity_scores)\n",
    "    \n",
    "    # Return the top N jobs with the highest cosine similarity scores\n",
    "    results = df_jobs.iloc[top_n_indices]    \n",
    "    results = results.copy()\n",
    "    results['score'] = similarity_scores\n",
    "    return results"
   ]
  },
  {
   "cell_type": "code",
   "execution_count": 14,
   "metadata": {},
   "outputs": [
    {
     "name": "stdout",
     "output_type": "stream",
     "text": [
      "sim_title: [0.70710678 0.70710678 0.70710678 0.70710678 0.70710678 0.70710678\n",
      " 0.70710678 0.70710678 0.57735027 0.57735027]\n",
      "sim_description: [0.28956906 0.28956906 0.25747162 0.2436909  0.22220425 0.21303294\n",
      " 0.21303294 0.20989322 0.20240132 0.20182185]\n",
      "sim_skills: [1.         0.5        0.5        0.47140452 0.40824829 0.40824829\n",
      " 0.40824829 0.40824829 0.40824829 0.40824829]\n",
      "Similarity Scores: [0.42224521 0.38562109 0.37189341 0.30484849 0.30313201 0.30090427\n",
      " 0.30044453 0.29904976 0.29904976 0.29762369 0.28490387 0.28490387\n",
      " 0.28482766 0.2848018  0.28117024 0.27776656 0.26549785 0.26133659\n",
      " 0.26079112 0.25839433 0.25517477 0.2549987  0.25157393 0.25145813\n",
      " 0.24380478]\n"
     ]
    }
   ],
   "source": [
    "input_title = \"backend\"\n",
    "input_description = \"I have skills in developing and maintaining software applications using agile techniques, Python, and JavaScript.\"\n",
    "input_skills = ['python', 'javascript', 'mysql']\n",
    "input_skills = ' '.join(input_skills)\n",
    "\n",
    "recommended_jobs = get_recommendations(input_title, input_description, input_skills)"
   ]
  },
  {
   "cell_type": "code",
   "execution_count": 15,
   "metadata": {},
   "outputs": [
    {
     "data": {
      "text/html": [
       "<div>\n",
       "<style scoped>\n",
       "    .dataframe tbody tr th:only-of-type {\n",
       "        vertical-align: middle;\n",
       "    }\n",
       "\n",
       "    .dataframe tbody tr th {\n",
       "        vertical-align: top;\n",
       "    }\n",
       "\n",
       "    .dataframe thead th {\n",
       "        text-align: right;\n",
       "    }\n",
       "</style>\n",
       "<table border=\"1\" class=\"dataframe\">\n",
       "  <thead>\n",
       "    <tr style=\"text-align: right;\">\n",
       "      <th></th>\n",
       "      <th>title</th>\n",
       "      <th>description</th>\n",
       "      <th>skills</th>\n",
       "      <th>score</th>\n",
       "    </tr>\n",
       "  </thead>\n",
       "  <tbody>\n",
       "    <tr>\n",
       "      <th>2632</th>\n",
       "      <td>Full Stack Engineer</td>\n",
       "      <td>Local NYC candidatesWe cannot sponsor visas at...</td>\n",
       "      <td>Python, JavaScript, MYSQL</td>\n",
       "      <td>0.422245</td>\n",
       "    </tr>\n",
       "    <tr>\n",
       "      <th>18369</th>\n",
       "      <td>Backend Engineer</td>\n",
       "      <td>CS Degree (or experience at top company ie: Tw...</td>\n",
       "      <td>Python/Django</td>\n",
       "      <td>0.385621</td>\n",
       "    </tr>\n",
       "    <tr>\n",
       "      <th>2840</th>\n",
       "      <td>Backend Engineer</td>\n",
       "      <td>Local CandidatesMust be able to work for any U...</td>\n",
       "      <td>Python, AWS, MYSQL building scalable systems, Git</td>\n",
       "      <td>0.371893</td>\n",
       "    </tr>\n",
       "    <tr>\n",
       "      <th>1461</th>\n",
       "      <td>C# Backend Engineer</td>\n",
       "      <td>Greetings!My name is Manohar and I work with W...</td>\n",
       "      <td>Software Engineer and Window Services and Asyn...</td>\n",
       "      <td>0.304848</td>\n",
       "    </tr>\n",
       "    <tr>\n",
       "      <th>18780</th>\n",
       "      <td>Backend Engineer - Python, Cassandra</td>\n",
       "      <td>To Apply: Candidates should have solid experie...</td>\n",
       "      <td>Python, Cassandra, NoSQL</td>\n",
       "      <td>0.303132</td>\n",
       "    </tr>\n",
       "    <tr>\n",
       "      <th>19181</th>\n",
       "      <td>Backend Python Software Engineer</td>\n",
       "      <td>You will:Architect and develop new systems for...</td>\n",
       "      <td>Python, Django, Javascript, HTTP, Mobile, Java</td>\n",
       "      <td>0.300904</td>\n",
       "    </tr>\n",
       "    <tr>\n",
       "      <th>4448</th>\n",
       "      <td>C# Backend Developer</td>\n",
       "      <td>CSI Interfusion (CSI) (size: 20,001+ employees...</td>\n",
       "      <td>C#, SQL, COSMOS, Power BI</td>\n",
       "      <td>0.300445</td>\n",
       "    </tr>\n",
       "    <tr>\n",
       "      <th>17758</th>\n",
       "      <td>Senior Backend Engineer</td>\n",
       "      <td>Our client, an exciting start-up in the food &amp;...</td>\n",
       "      <td>python, backend, django, aws, full stack, node...</td>\n",
       "      <td>0.299050</td>\n",
       "    </tr>\n",
       "    <tr>\n",
       "      <th>19352</th>\n",
       "      <td>Senior Backend Engineer</td>\n",
       "      <td>Our client, an exciting start-up in the food &amp;...</td>\n",
       "      <td>python, backend, django, aws, full stack, node...</td>\n",
       "      <td>0.299050</td>\n",
       "    </tr>\n",
       "    <tr>\n",
       "      <th>19240</th>\n",
       "      <td>Backend Engineer</td>\n",
       "      <td>iCARS is a web and mobile application platform...</td>\n",
       "      <td>node.js, mongodb, strongloop, loopback</td>\n",
       "      <td>0.297624</td>\n",
       "    </tr>\n",
       "  </tbody>\n",
       "</table>\n",
       "</div>"
      ],
      "text/plain": [
       "                                      title  \\\n",
       "2632                    Full Stack Engineer   \n",
       "18369                      Backend Engineer   \n",
       "2840                       Backend Engineer   \n",
       "1461                    C# Backend Engineer   \n",
       "18780  Backend Engineer - Python, Cassandra   \n",
       "19181      Backend Python Software Engineer   \n",
       "4448                   C# Backend Developer   \n",
       "17758               Senior Backend Engineer   \n",
       "19352               Senior Backend Engineer   \n",
       "19240                      Backend Engineer   \n",
       "\n",
       "                                             description  \\\n",
       "2632   Local NYC candidatesWe cannot sponsor visas at...   \n",
       "18369  CS Degree (or experience at top company ie: Tw...   \n",
       "2840   Local CandidatesMust be able to work for any U...   \n",
       "1461   Greetings!My name is Manohar and I work with W...   \n",
       "18780  To Apply: Candidates should have solid experie...   \n",
       "19181  You will:Architect and develop new systems for...   \n",
       "4448   CSI Interfusion (CSI) (size: 20,001+ employees...   \n",
       "17758  Our client, an exciting start-up in the food &...   \n",
       "19352  Our client, an exciting start-up in the food &...   \n",
       "19240  iCARS is a web and mobile application platform...   \n",
       "\n",
       "                                                  skills     score  \n",
       "2632                           Python, JavaScript, MYSQL  0.422245  \n",
       "18369                                      Python/Django  0.385621  \n",
       "2840   Python, AWS, MYSQL building scalable systems, Git  0.371893  \n",
       "1461   Software Engineer and Window Services and Asyn...  0.304848  \n",
       "18780                           Python, Cassandra, NoSQL  0.303132  \n",
       "19181     Python, Django, Javascript, HTTP, Mobile, Java  0.300904  \n",
       "4448                           C#, SQL, COSMOS, Power BI  0.300445  \n",
       "17758  python, backend, django, aws, full stack, node...  0.299050  \n",
       "19352  python, backend, django, aws, full stack, node...  0.299050  \n",
       "19240             node.js, mongodb, strongloop, loopback  0.297624  "
      ]
     },
     "execution_count": 15,
     "metadata": {},
     "output_type": "execute_result"
    }
   ],
   "source": [
    "recommended_jobs[['title', 'description', 'skills', 'score']].iloc[:10]"
   ]
  }
 ],
 "metadata": {
  "kernelspec": {
   "display_name": "env",
   "language": "python",
   "name": "python3"
  },
  "language_info": {
   "codemirror_mode": {
    "name": "ipython",
    "version": 3
   },
   "file_extension": ".py",
   "mimetype": "text/x-python",
   "name": "python",
   "nbconvert_exporter": "python",
   "pygments_lexer": "ipython3",
   "version": "3.11.0"
  },
  "orig_nbformat": 4,
  "vscode": {
   "interpreter": {
    "hash": "a641661bbf681d00ab749292bf4ccacdf89ef26d1bd40e841667c7f5022aea92"
   }
  }
 },
 "nbformat": 4,
 "nbformat_minor": 2
}
