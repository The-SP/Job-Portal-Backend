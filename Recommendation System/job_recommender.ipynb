{
 "cells": [
  {
   "cell_type": "code",
   "execution_count": 41,
   "metadata": {},
   "outputs": [],
   "source": [
    "#  Link for csv file\n",
    "#  https://www.kaggle.com/datasets/PromptCloudHQ/us-technology-jobs-on-dicecom"
   ]
  },
  {
   "cell_type": "code",
   "execution_count": 42,
   "metadata": {},
   "outputs": [],
   "source": [
    "import pandas as pd\n",
    "import numpy as np"
   ]
  },
  {
   "cell_type": "code",
   "execution_count": 43,
   "metadata": {},
   "outputs": [
    {
     "name": "stdout",
     "output_type": "stream",
     "text": [
      "Jobs shape: (21957, 12)\n",
      "<class 'pandas.core.frame.DataFrame'>\n",
      "RangeIndex: 21957 entries, 0 to 21956\n",
      "Data columns (total 12 columns):\n",
      " #   Column                    Non-Null Count  Dtype \n",
      "---  ------                    --------------  ----- \n",
      " 0   advertiserurl             21957 non-null  object\n",
      " 1   company                   21907 non-null  object\n",
      " 2   employmenttype_jobstatus  21727 non-null  object\n",
      " 3   jobdescription            21957 non-null  object\n",
      " 4   jobid                     21957 non-null  object\n",
      " 5   joblocation_address       21954 non-null  object\n",
      " 6   jobtitle                  21957 non-null  object\n",
      " 7   postdate                  21957 non-null  object\n",
      " 8   shift                     21637 non-null  object\n",
      " 9   site_name                 3484 non-null   object\n",
      " 10  skills                    21957 non-null  object\n",
      " 11  uniq_id                   21957 non-null  object\n",
      "dtypes: object(12)\n",
      "memory usage: 2.0+ MB\n"
     ]
    }
   ],
   "source": [
    "df_jobs = pd.read_csv(\"./jobs_data.csv\")\n",
    "print(\"Jobs shape:\", df_jobs.shape)\n",
    "df_jobs.info()"
   ]
  },
  {
   "cell_type": "code",
   "execution_count": 44,
   "metadata": {},
   "outputs": [
    {
     "name": "stdout",
     "output_type": "stream",
     "text": [
      "sr  backend devloper\n",
      "i have skills in developing and maintaining software applications using python  java  and javascript \n",
      "html css javascript sql\n"
     ]
    }
   ],
   "source": [
    "import re\n",
    "\n",
    "# Title should contain only characters, spaces and '+' (for C++)\n",
    "def clean_job_title(title):\n",
    "    return re.sub(r'[^a-zA-Z\\s\\+]', ' ', title).lower()\n",
    "\n",
    "def clean_job_description(text):\n",
    "    # Remove punctuation and numbers\n",
    "    text = re.sub('[^a-zA-Z]', ' ', text)\n",
    "    # Convert to lowercase\n",
    "    text = text.lower()\n",
    "    return text\n",
    "\n",
    "def clean_skill(skill):\n",
    "    return skill.replace(',', '').lower()\n",
    "\n",
    "print(clean_job_title(\"Sr. BAckend DevlopER\"))\n",
    "print(clean_job_description(\"I have skills in developing and maintaining software applications using Python, Java, and JavaScript.\"))\n",
    "print(clean_skill('HTML, CSS, JavaScript, SQL'))"
   ]
  },
  {
   "cell_type": "code",
   "execution_count": 45,
   "metadata": {},
   "outputs": [],
   "source": [
    "# Clean jobtitle, jobdescription and skills\n",
    "df_jobs[\"clean_title\"] = df_jobs[\"jobtitle\"].apply(clean_job_title)\n",
    "df_jobs['clean_jobdescription'] = df_jobs['jobdescription'].apply(clean_job_description)\n",
    "df_jobs['clean_skills'] = df_jobs['skills'].apply(clean_skill)"
   ]
  },
  {
   "cell_type": "code",
   "execution_count": 46,
   "metadata": {},
   "outputs": [],
   "source": [
    "from sklearn.feature_extraction.text import TfidfVectorizer\n",
    "from sklearn.feature_extraction.text import CountVectorizer\n",
    "from sklearn.metrics.pairwise import cosine_similarity"
   ]
  },
  {
   "cell_type": "code",
   "execution_count": 47,
   "metadata": {},
   "outputs": [],
   "source": [
    "# Initialize the TfidfVectorizer\n",
    "title_vectorizer = CountVectorizer()\n",
    "description_vectorizer = TfidfVectorizer(stop_words='english')\n",
    "skills_vectorizer = CountVectorizer(ngram_range=(1, 3))\n",
    "\n",
    "\n",
    "# fit_transform the vectorizers and create tfidf matrix\n",
    "title_matrix = title_vectorizer.fit_transform(df_jobs['clean_title'])\n",
    "description_matrix = description_vectorizer.fit_transform(df_jobs['clean_jobdescription'])\n",
    "skills_matrix = skills_vectorizer.fit_transform(df_jobs['clean_skills'])"
   ]
  },
  {
   "cell_type": "code",
   "execution_count": 48,
   "metadata": {},
   "outputs": [],
   "source": [
    "\n",
    "def get_recommendations(title, description, skills):\n",
    "    # Clean title\n",
    "    title = clean_job_title(title)\n",
    "    # Clean description\n",
    "    if skills:\n",
    "        description = ' '.join(skills) + ' ' + description\n",
    "    if title:\n",
    "        description = f'{title} {description}'\n",
    "    description = clean_job_description(description)\n",
    "    # Clean skills\n",
    "    skills = clean_skill(skills)\n",
    "\n",
    "    # Compute vectorizer\n",
    "    query_title_vec = title_vectorizer.transform([title])\n",
    "    query_description_vec = description_vectorizer.transform([description])\n",
    "    query_skills_vec = skills_vectorizer.transform([skills])\n",
    "\n",
    "    # Compute cosine similarity\n",
    "    cosine_sim_title = cosine_similarity(query_title_vec, title_matrix)\n",
    "    cosine_sim_description = cosine_similarity(query_description_vec, description_matrix)\n",
    "    cosine_sim_skills = cosine_similarity(query_skills_vec, skills_matrix)\n",
    "\n",
    "\n",
    "    # Print the similarity scores for eact feature\n",
    "    print('sim_title:', cosine_sim_title[0][np.argsort(-cosine_sim_title[0])[:10]])\n",
    "    print('sim_description:', cosine_sim_description[0][np.argsort(-cosine_sim_description[0])[:10]])\n",
    "    print('sim_skills:', cosine_sim_skills[0][np.argsort(-cosine_sim_skills[0])[:10]])\n",
    "    # Print the top skills score and its corresponding skills\n",
    "    # top_n_skills = np.argsort(-cosine_sim_skills[0])[:10]\n",
    "    # results_skills = df_jobs.iloc[top_n_skills]\n",
    "    # results_skills = results_skills.copy()\n",
    "    # results_skills['score'] = cosine_sim_skills[0][top_n_skills]\n",
    "    # print(results_skills[['jobtitle', 'skills', 'score']])\n",
    "\n",
    "    # Combine the cosine similarity scores for job title, job description and skills\n",
    "    weight_title = 0.4\n",
    "    weight_description = 0.2\n",
    "    weight_skills = 0.4\n",
    "    cosine_sim_input = weight_title * cosine_sim_title + weight_description * cosine_sim_description + weight_skills * cosine_sim_skills\n",
    "\n",
    "    # Find the indices of the top N jobs with the highest cosine similarity scores\n",
    "    N = 25\n",
    "    top_n_indices = np.argsort(-cosine_sim_input[0])[:N]\n",
    "\n",
    "    # Get the similarity scores of the recommended jobs\n",
    "    similarity_scores = cosine_sim_input[0][top_n_indices]\n",
    "    print(\"Similarity Scores:\", similarity_scores)\n",
    "    \n",
    "    # Return the top N jobs with the highest cosine similarity scores\n",
    "    results = df_jobs.iloc[top_n_indices]    \n",
    "    results = results.copy()\n",
    "    results['score'] = similarity_scores\n",
    "    return results"
   ]
  },
  {
   "cell_type": "code",
   "execution_count": 49,
   "metadata": {},
   "outputs": [
    {
     "name": "stdout",
     "output_type": "stream",
     "text": [
      "sim_title: [0.70710678 0.70710678 0.70710678 0.70710678 0.70710678 0.70710678\n",
      " 0.70710678 0.70710678 0.70710678 0.57735027]\n",
      "sim_description: [0.2896732  0.2896732  0.25782027 0.24386415 0.22203163 0.21357695\n",
      " 0.21357695 0.20918275 0.20246527 0.20211751]\n",
      "sim_skills: [1.         0.5        0.5        0.47140452 0.40824829 0.40824829\n",
      " 0.40824829 0.40824829 0.40824829 0.40824829]\n",
      "Similarity Scores: [0.42230056 0.38566438 0.37188067 0.30489556 0.30346146 0.30337414\n",
      " 0.3009239  0.30033446 0.29915857 0.29915857 0.29765274 0.28489836\n",
      " 0.28489836 0.28489739 0.28481289 0.28118532 0.27777208 0.26551812\n",
      " 0.26132766 0.26103204 0.25840562 0.25516337 0.25507893 0.25272862\n",
      " 0.25155212]\n"
     ]
    }
   ],
   "source": [
    "input_title = \"backend\"\n",
    "input_description = \"I have skills in developing and maintaining software applications using agile techniques, Python, and JavaScript.\"\n",
    "input_skills = ['python', 'javascript', 'mysql']\n",
    "input_skills = ' '.join(input_skills)\n",
    "\n",
    "recommended_jobs = get_recommendations(input_title, input_description, input_skills)"
   ]
  },
  {
   "cell_type": "code",
   "execution_count": 50,
   "metadata": {},
   "outputs": [
    {
     "data": {
      "text/html": [
       "<div>\n",
       "<style scoped>\n",
       "    .dataframe tbody tr th:only-of-type {\n",
       "        vertical-align: middle;\n",
       "    }\n",
       "\n",
       "    .dataframe tbody tr th {\n",
       "        vertical-align: top;\n",
       "    }\n",
       "\n",
       "    .dataframe thead th {\n",
       "        text-align: right;\n",
       "    }\n",
       "</style>\n",
       "<table border=\"1\" class=\"dataframe\">\n",
       "  <thead>\n",
       "    <tr style=\"text-align: right;\">\n",
       "      <th></th>\n",
       "      <th>jobtitle</th>\n",
       "      <th>jobdescription</th>\n",
       "      <th>skills</th>\n",
       "      <th>score</th>\n",
       "    </tr>\n",
       "  </thead>\n",
       "  <tbody>\n",
       "    <tr>\n",
       "      <th>2984</th>\n",
       "      <td>Full Stack Engineer</td>\n",
       "      <td>Local NYC candidatesWe cannot sponsor visas at...</td>\n",
       "      <td>Python, JavaScript, MYSQL</td>\n",
       "      <td>0.422301</td>\n",
       "    </tr>\n",
       "    <tr>\n",
       "      <th>20530</th>\n",
       "      <td>Backend Engineer</td>\n",
       "      <td>CS Degree (or experience at top company ie: Tw...</td>\n",
       "      <td>Python/Django</td>\n",
       "      <td>0.385664</td>\n",
       "    </tr>\n",
       "    <tr>\n",
       "      <th>3219</th>\n",
       "      <td>Backend Engineer</td>\n",
       "      <td>Local CandidatesMust be able to work for any U...</td>\n",
       "      <td>Python, AWS, MYSQL building scalable systems, Git</td>\n",
       "      <td>0.371881</td>\n",
       "    </tr>\n",
       "    <tr>\n",
       "      <th>1699</th>\n",
       "      <td>C# Backend Engineer</td>\n",
       "      <td>Greetings!My name is Manohar and I work with W...</td>\n",
       "      <td>Software Engineer and Window Services and Asyn...</td>\n",
       "      <td>0.304896</td>\n",
       "    </tr>\n",
       "    <tr>\n",
       "      <th>10998</th>\n",
       "      <td>Backend Engineer</td>\n",
       "      <td>Minimum QualificationsBachelor's Degree in Com...</td>\n",
       "      <td>Contract W2</td>\n",
       "      <td>0.303461</td>\n",
       "    </tr>\n",
       "    <tr>\n",
       "      <th>20977</th>\n",
       "      <td>Backend Engineer - Python, Cassandra</td>\n",
       "      <td>To Apply: Candidates should have solid experie...</td>\n",
       "      <td>Python, Cassandra, NoSQL</td>\n",
       "      <td>0.303374</td>\n",
       "    </tr>\n",
       "    <tr>\n",
       "      <th>21418</th>\n",
       "      <td>Backend Python Software Engineer</td>\n",
       "      <td>You will:Architect and develop new systems for...</td>\n",
       "      <td>Python, Django, Javascript, HTTP, Mobile, Java</td>\n",
       "      <td>0.300924</td>\n",
       "    </tr>\n",
       "    <tr>\n",
       "      <th>5021</th>\n",
       "      <td>C# Backend Developer</td>\n",
       "      <td>CSI Interfusion (CSI) (size: 20,001+ employees...</td>\n",
       "      <td>C#, SQL, COSMOS, Power BI</td>\n",
       "      <td>0.300334</td>\n",
       "    </tr>\n",
       "    <tr>\n",
       "      <th>21607</th>\n",
       "      <td>Senior Backend Engineer</td>\n",
       "      <td>Our client, an exciting start-up in the food &amp;...</td>\n",
       "      <td>python, backend, django, aws, full stack, node...</td>\n",
       "      <td>0.299159</td>\n",
       "    </tr>\n",
       "    <tr>\n",
       "      <th>19872</th>\n",
       "      <td>Senior Backend Engineer</td>\n",
       "      <td>Our client, an exciting start-up in the food &amp;...</td>\n",
       "      <td>python, backend, django, aws, full stack, node...</td>\n",
       "      <td>0.299159</td>\n",
       "    </tr>\n",
       "  </tbody>\n",
       "</table>\n",
       "</div>"
      ],
      "text/plain": [
       "                                   jobtitle  \\\n",
       "2984                    Full Stack Engineer   \n",
       "20530                      Backend Engineer   \n",
       "3219                       Backend Engineer   \n",
       "1699                    C# Backend Engineer   \n",
       "10998                      Backend Engineer   \n",
       "20977  Backend Engineer - Python, Cassandra   \n",
       "21418      Backend Python Software Engineer   \n",
       "5021                   C# Backend Developer   \n",
       "21607               Senior Backend Engineer   \n",
       "19872               Senior Backend Engineer   \n",
       "\n",
       "                                          jobdescription  \\\n",
       "2984   Local NYC candidatesWe cannot sponsor visas at...   \n",
       "20530  CS Degree (or experience at top company ie: Tw...   \n",
       "3219   Local CandidatesMust be able to work for any U...   \n",
       "1699   Greetings!My name is Manohar and I work with W...   \n",
       "10998  Minimum QualificationsBachelor's Degree in Com...   \n",
       "20977  To Apply: Candidates should have solid experie...   \n",
       "21418  You will:Architect and develop new systems for...   \n",
       "5021   CSI Interfusion (CSI) (size: 20,001+ employees...   \n",
       "21607  Our client, an exciting start-up in the food &...   \n",
       "19872  Our client, an exciting start-up in the food &...   \n",
       "\n",
       "                                                  skills     score  \n",
       "2984                           Python, JavaScript, MYSQL  0.422301  \n",
       "20530                                      Python/Django  0.385664  \n",
       "3219   Python, AWS, MYSQL building scalable systems, Git  0.371881  \n",
       "1699   Software Engineer and Window Services and Asyn...  0.304896  \n",
       "10998                                        Contract W2  0.303461  \n",
       "20977                           Python, Cassandra, NoSQL  0.303374  \n",
       "21418     Python, Django, Javascript, HTTP, Mobile, Java  0.300924  \n",
       "5021                           C#, SQL, COSMOS, Power BI  0.300334  \n",
       "21607  python, backend, django, aws, full stack, node...  0.299159  \n",
       "19872  python, backend, django, aws, full stack, node...  0.299159  "
      ]
     },
     "execution_count": 50,
     "metadata": {},
     "output_type": "execute_result"
    }
   ],
   "source": [
    "recommended_jobs[['jobtitle', 'jobdescription', 'skills', 'score']].iloc[:10]"
   ]
  }
 ],
 "metadata": {
  "kernelspec": {
   "display_name": "env",
   "language": "python",
   "name": "python3"
  },
  "language_info": {
   "codemirror_mode": {
    "name": "ipython",
    "version": 3
   },
   "file_extension": ".py",
   "mimetype": "text/x-python",
   "name": "python",
   "nbconvert_exporter": "python",
   "pygments_lexer": "ipython3",
   "version": "3.11.0"
  },
  "orig_nbformat": 4,
  "vscode": {
   "interpreter": {
    "hash": "a641661bbf681d00ab749292bf4ccacdf89ef26d1bd40e841667c7f5022aea92"
   }
  }
 },
 "nbformat": 4,
 "nbformat_minor": 2
}
