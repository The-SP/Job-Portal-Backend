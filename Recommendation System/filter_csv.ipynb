{
 "cells": [
  {
   "cell_type": "code",
   "execution_count": 34,
   "metadata": {
    "tags": []
   },
   "outputs": [],
   "source": [
    "#  Link for csv file\n",
    "#  https://www.kaggle.com/datasets/PromptCloudHQ/us-technology-jobs-on-dicecom\n",
    "\n",
    "import pandas as pd\n",
    "import numpy as np"
   ]
  },
  {
   "cell_type": "code",
   "execution_count": 35,
   "metadata": {},
   "outputs": [
    {
     "name": "stdout",
     "output_type": "stream",
     "text": [
      "Original df\n",
      "(22000, 12)\n",
      "<class 'pandas.core.frame.DataFrame'>\n",
      "RangeIndex: 22000 entries, 0 to 21999\n",
      "Data columns (total 12 columns):\n",
      " #   Column                    Non-Null Count  Dtype \n",
      "---  ------                    --------------  ----- \n",
      " 0   advertiserurl             22000 non-null  object\n",
      " 1   company                   21950 non-null  object\n",
      " 2   employmenttype_jobstatus  21770 non-null  object\n",
      " 3   jobdescription            22000 non-null  object\n",
      " 4   jobid                     22000 non-null  object\n",
      " 5   joblocation_address       21997 non-null  object\n",
      " 6   jobtitle                  22000 non-null  object\n",
      " 7   postdate                  22000 non-null  object\n",
      " 8   shift                     21643 non-null  object\n",
      " 9   site_name                 3490 non-null   object\n",
      " 10  skills                    21957 non-null  object\n",
      " 11  uniq_id                   22000 non-null  object\n",
      "dtypes: object(12)\n",
      "memory usage: 2.0+ MB\n",
      "None\n",
      "-------------------\n",
      "New df\n",
      "(22000, 5)\n",
      "<class 'pandas.core.frame.DataFrame'>\n",
      "RangeIndex: 22000 entries, 0 to 21999\n",
      "Data columns (total 5 columns):\n",
      " #   Column               Non-Null Count  Dtype \n",
      "---  ------               --------------  ----- \n",
      " 0   jobtitle             22000 non-null  object\n",
      " 1   jobdescription       22000 non-null  object\n",
      " 2   skills               21957 non-null  object\n",
      " 3   company              21950 non-null  object\n",
      " 4   joblocation_address  21997 non-null  object\n",
      "dtypes: object(5)\n",
      "memory usage: 859.5+ KB\n",
      "None\n"
     ]
    }
   ],
   "source": [
    "df_jobs = pd.read_csv(\"./dice_com-job_us_sample.csv\")\n",
    "print(\"Original df\")\n",
    "print(df_jobs.shape)\n",
    "print(df_jobs.info())\n",
    "\n",
    "# Select only required columns\n",
    "df_jobs = df_jobs[['jobtitle', 'jobdescription', 'skills', 'company', 'joblocation_address']]\n",
    "print(\"-------------------\")\n",
    "print(\"New df\")\n",
    "print(df_jobs.shape)\n",
    "print(df_jobs.info())"
   ]
  },
  {
   "cell_type": "code",
   "execution_count": 36,
   "metadata": {},
   "outputs": [
    {
     "name": "stdout",
     "output_type": "stream",
     "text": [
      "<class 'pandas.core.frame.DataFrame'>\n",
      "Int64Index: 19674 entries, 1 to 21999\n",
      "Data columns (total 5 columns):\n",
      " #   Column               Non-Null Count  Dtype \n",
      "---  ------               --------------  ----- \n",
      " 0   jobtitle             19674 non-null  object\n",
      " 1   jobdescription       19674 non-null  object\n",
      " 2   skills               19674 non-null  object\n",
      " 3   company              19626 non-null  object\n",
      " 4   joblocation_address  19672 non-null  object\n",
      "dtypes: object(5)\n",
      "memory usage: 922.2+ KB\n",
      "None\n"
     ]
    }
   ],
   "source": [
    "# Clean skills column\n",
    "df_jobs.dropna(subset=['skills'], inplace=True)\n",
    "\n",
    "# Dropped records\n",
    "# df_dropped_jobs = df_jobs[df_jobs['skills'].str.contains('see job description|see below|tad pgs|full time|contract|recruiter|years of|\\(.*\\)', na=False, case=False)]\n",
    "# print(df_dropped_jobs.info())\n",
    "\n",
    "# Drop the rows in the \"skills\" column that contain the values \"see job description\", \"see below\", \"tad pgs\", \"full time\", etc. or any value containing ( and )\n",
    "df_jobs = df_jobs[~df_jobs['skills'].str.contains('see job description|see below|tad pgs|full time|contract|recruiter|years of|\\(.*\\)', na=False, case=False)]\n",
    "print(df_jobs.info())"
   ]
  },
  {
   "cell_type": "code",
   "execution_count": 37,
   "metadata": {},
   "outputs": [],
   "source": [
    "df_jobs.to_csv('jobs_data.csv', index=False)"
   ]
  }
 ],
 "metadata": {
  "kernelspec": {
   "display_name": "Python 3 (ipykernel)",
   "language": "python",
   "name": "python3"
  },
  "language_info": {
   "codemirror_mode": {
    "name": "ipython",
    "version": 3
   },
   "file_extension": ".py",
   "mimetype": "text/x-python",
   "name": "python",
   "nbconvert_exporter": "python",
   "pygments_lexer": "ipython3",
   "version": "3.11.0"
  },
  "vscode": {
   "interpreter": {
    "hash": "a641661bbf681d00ab749292bf4ccacdf89ef26d1bd40e841667c7f5022aea92"
   }
  }
 },
 "nbformat": 4,
 "nbformat_minor": 4
}
