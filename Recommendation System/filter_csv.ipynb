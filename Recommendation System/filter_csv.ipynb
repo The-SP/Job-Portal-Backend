{
 "cells": [
  {
   "attachments": {},
   "cell_type": "markdown",
   "metadata": {},
   "source": [
    "## Job Recommendation System\n",
    "\n",
    "###  Link for csv file\n",
    "https://www.kaggle.com/datasets/PromptCloudHQ/us-technology-jobs-on-dicecom\n",
    "\n",
    "#### What it does?\n",
    "- Select only required columns from the dataset\n",
    "- Drop null records\n",
    "- Clean the skills column\n",
    "- Save the cleaned dataset to new file 'jobs_data.csv'"
   ]
  },
  {
   "cell_type": "code",
   "execution_count": 2,
   "metadata": {},
   "outputs": [],
   "source": [
    "import pandas as pd"
   ]
  },
  {
   "cell_type": "code",
   "execution_count": 3,
   "metadata": {},
   "outputs": [
    {
     "name": "stdout",
     "output_type": "stream",
     "text": [
      "Original df\n",
      "(22000, 12)\n",
      "-------------------\n",
      "New df\n",
      "(22000, 5)\n",
      "<class 'pandas.core.frame.DataFrame'>\n",
      "RangeIndex: 22000 entries, 0 to 21999\n",
      "Data columns (total 5 columns):\n",
      " #   Column       Non-Null Count  Dtype \n",
      "---  ------       --------------  ----- \n",
      " 0   title        22000 non-null  object\n",
      " 1   description  22000 non-null  object\n",
      " 2   skills       21957 non-null  object\n",
      " 3   company      21950 non-null  object\n",
      " 4   location     21997 non-null  object\n",
      "dtypes: object(5)\n",
      "memory usage: 859.5+ KB\n",
      "None\n"
     ]
    }
   ],
   "source": [
    "df_jobs = pd.read_csv(\"./dice_com-job_us_sample.csv\")\n",
    "print(\"Original df\")\n",
    "print(df_jobs.shape)\n",
    "# print(df_jobs.info())\n",
    "\n",
    "# Select only required columns\n",
    "df_jobs = df_jobs[['jobtitle', 'jobdescription', 'skills', 'company', 'joblocation_address']]\n",
    "# Rename the columns\n",
    "df_jobs.rename(columns={'jobtitle':'title', 'jobdescription':'description', 'joblocation_address':'location'}, inplace=True)\n",
    "print(\"-------------------\")\n",
    "print(\"New df\")\n",
    "print(df_jobs.shape)\n",
    "print(df_jobs.info())"
   ]
  },
  {
   "cell_type": "code",
   "execution_count": 4,
   "metadata": {},
   "outputs": [
    {
     "name": "stdout",
     "output_type": "stream",
     "text": [
      "<class 'pandas.core.frame.DataFrame'>\n",
      "Int64Index: 19674 entries, 1 to 21999\n",
      "Data columns (total 5 columns):\n",
      " #   Column       Non-Null Count  Dtype \n",
      "---  ------       --------------  ----- \n",
      " 0   title        19674 non-null  object\n",
      " 1   description  19674 non-null  object\n",
      " 2   skills       19674 non-null  object\n",
      " 3   company      19626 non-null  object\n",
      " 4   location     19672 non-null  object\n",
      "dtypes: object(5)\n",
      "memory usage: 922.2+ KB\n",
      "None\n"
     ]
    }
   ],
   "source": [
    "# Clean skills column\n",
    "df_jobs.dropna(subset=['skills'], inplace=True)\n",
    "\n",
    "# Dropped records\n",
    "# df_dropped_jobs = df_jobs[df_jobs['skills'].str.contains('see job description|see below|tad pgs|full time|contract|recruiter|years of|\\(.*\\)', na=False, case=False)]\n",
    "# print(df_dropped_jobs.info())\n",
    "\n",
    "# Drop the rows in the \"skills\" column that contain the values \"see job description\", \"see below\", \"tad pgs\", \"full time\", etc. or any value containing ( and )\n",
    "df_jobs = df_jobs[~df_jobs['skills'].str.contains('see job description|see below|tad pgs|full time|contract|recruiter|years of|\\(.*\\)', na=False, case=False)]\n",
    "print(df_jobs.info())"
   ]
  },
  {
   "cell_type": "code",
   "execution_count": 5,
   "metadata": {},
   "outputs": [],
   "source": [
    "df_jobs.to_csv('jobs_data.csv', index=False)"
   ]
  }
 ],
 "metadata": {
  "kernelspec": {
   "display_name": "Python 3 (ipykernel)",
   "language": "python",
   "name": "python3"
  },
  "language_info": {
   "codemirror_mode": {
    "name": "ipython",
    "version": 3
   },
   "file_extension": ".py",
   "mimetype": "text/x-python",
   "name": "python",
   "nbconvert_exporter": "python",
   "pygments_lexer": "ipython3",
   "version": "3.11.0"
  },
  "vscode": {
   "interpreter": {
    "hash": "a641661bbf681d00ab749292bf4ccacdf89ef26d1bd40e841667c7f5022aea92"
   }
  }
 },
 "nbformat": 4,
 "nbformat_minor": 4
}
